{
 "cells": [
  {
   "cell_type": "code",
   "execution_count": 60,
   "metadata": {
    "collapsed": false
   },
   "outputs": [
    {
     "data": {
      "text/html": [
       "<div>\n",
       "<table border=\"1\" class=\"dataframe\">\n",
       "  <thead>\n",
       "    <tr style=\"text-align: right;\">\n",
       "      <th></th>\n",
       "      <th>symboling</th>\n",
       "      <th>normalized-losses</th>\n",
       "      <th>make</th>\n",
       "      <th>fuel-type</th>\n",
       "      <th>aspiration</th>\n",
       "      <th>num-of-doors</th>\n",
       "      <th>body-style</th>\n",
       "      <th>drive-wheels</th>\n",
       "      <th>engine-location</th>\n",
       "      <th>wheel-base</th>\n",
       "      <th>...</th>\n",
       "      <th>engine-size</th>\n",
       "      <th>fuel-system</th>\n",
       "      <th>bore</th>\n",
       "      <th>stroke</th>\n",
       "      <th>compression-ratio</th>\n",
       "      <th>horsepower</th>\n",
       "      <th>peak-rpm</th>\n",
       "      <th>city-mpg</th>\n",
       "      <th>highway-mpg</th>\n",
       "      <th>price</th>\n",
       "    </tr>\n",
       "  </thead>\n",
       "  <tbody>\n",
       "    <tr>\n",
       "      <th>0</th>\n",
       "      <td>3</td>\n",
       "      <td>?</td>\n",
       "      <td>alfa-romero</td>\n",
       "      <td>gas</td>\n",
       "      <td>std</td>\n",
       "      <td>two</td>\n",
       "      <td>convertible</td>\n",
       "      <td>rwd</td>\n",
       "      <td>front</td>\n",
       "      <td>88.6</td>\n",
       "      <td>...</td>\n",
       "      <td>130</td>\n",
       "      <td>mpfi</td>\n",
       "      <td>3.47</td>\n",
       "      <td>2.68</td>\n",
       "      <td>9.0</td>\n",
       "      <td>111</td>\n",
       "      <td>5000</td>\n",
       "      <td>21</td>\n",
       "      <td>27</td>\n",
       "      <td>16500</td>\n",
       "    </tr>\n",
       "    <tr>\n",
       "      <th>1</th>\n",
       "      <td>1</td>\n",
       "      <td>?</td>\n",
       "      <td>alfa-romero</td>\n",
       "      <td>gas</td>\n",
       "      <td>std</td>\n",
       "      <td>two</td>\n",
       "      <td>hatchback</td>\n",
       "      <td>rwd</td>\n",
       "      <td>front</td>\n",
       "      <td>94.5</td>\n",
       "      <td>...</td>\n",
       "      <td>152</td>\n",
       "      <td>mpfi</td>\n",
       "      <td>2.68</td>\n",
       "      <td>3.47</td>\n",
       "      <td>9.0</td>\n",
       "      <td>154</td>\n",
       "      <td>5000</td>\n",
       "      <td>19</td>\n",
       "      <td>26</td>\n",
       "      <td>16500</td>\n",
       "    </tr>\n",
       "    <tr>\n",
       "      <th>2</th>\n",
       "      <td>2</td>\n",
       "      <td>164</td>\n",
       "      <td>audi</td>\n",
       "      <td>gas</td>\n",
       "      <td>std</td>\n",
       "      <td>four</td>\n",
       "      <td>sedan</td>\n",
       "      <td>fwd</td>\n",
       "      <td>front</td>\n",
       "      <td>99.8</td>\n",
       "      <td>...</td>\n",
       "      <td>109</td>\n",
       "      <td>mpfi</td>\n",
       "      <td>3.19</td>\n",
       "      <td>3.40</td>\n",
       "      <td>10.0</td>\n",
       "      <td>102</td>\n",
       "      <td>5500</td>\n",
       "      <td>24</td>\n",
       "      <td>30</td>\n",
       "      <td>13950</td>\n",
       "    </tr>\n",
       "    <tr>\n",
       "      <th>3</th>\n",
       "      <td>2</td>\n",
       "      <td>164</td>\n",
       "      <td>audi</td>\n",
       "      <td>gas</td>\n",
       "      <td>std</td>\n",
       "      <td>four</td>\n",
       "      <td>sedan</td>\n",
       "      <td>4wd</td>\n",
       "      <td>front</td>\n",
       "      <td>99.4</td>\n",
       "      <td>...</td>\n",
       "      <td>136</td>\n",
       "      <td>mpfi</td>\n",
       "      <td>3.19</td>\n",
       "      <td>3.40</td>\n",
       "      <td>8.0</td>\n",
       "      <td>115</td>\n",
       "      <td>5500</td>\n",
       "      <td>18</td>\n",
       "      <td>22</td>\n",
       "      <td>17450</td>\n",
       "    </tr>\n",
       "    <tr>\n",
       "      <th>4</th>\n",
       "      <td>2</td>\n",
       "      <td>?</td>\n",
       "      <td>audi</td>\n",
       "      <td>gas</td>\n",
       "      <td>std</td>\n",
       "      <td>two</td>\n",
       "      <td>sedan</td>\n",
       "      <td>fwd</td>\n",
       "      <td>front</td>\n",
       "      <td>99.8</td>\n",
       "      <td>...</td>\n",
       "      <td>136</td>\n",
       "      <td>mpfi</td>\n",
       "      <td>3.19</td>\n",
       "      <td>3.40</td>\n",
       "      <td>8.5</td>\n",
       "      <td>110</td>\n",
       "      <td>5500</td>\n",
       "      <td>19</td>\n",
       "      <td>25</td>\n",
       "      <td>15250</td>\n",
       "    </tr>\n",
       "    <tr>\n",
       "      <th>5</th>\n",
       "      <td>1</td>\n",
       "      <td>158</td>\n",
       "      <td>audi</td>\n",
       "      <td>gas</td>\n",
       "      <td>std</td>\n",
       "      <td>four</td>\n",
       "      <td>sedan</td>\n",
       "      <td>fwd</td>\n",
       "      <td>front</td>\n",
       "      <td>105.8</td>\n",
       "      <td>...</td>\n",
       "      <td>136</td>\n",
       "      <td>mpfi</td>\n",
       "      <td>3.19</td>\n",
       "      <td>3.40</td>\n",
       "      <td>8.5</td>\n",
       "      <td>110</td>\n",
       "      <td>5500</td>\n",
       "      <td>19</td>\n",
       "      <td>25</td>\n",
       "      <td>17710</td>\n",
       "    </tr>\n",
       "    <tr>\n",
       "      <th>6</th>\n",
       "      <td>1</td>\n",
       "      <td>?</td>\n",
       "      <td>audi</td>\n",
       "      <td>gas</td>\n",
       "      <td>std</td>\n",
       "      <td>four</td>\n",
       "      <td>wagon</td>\n",
       "      <td>fwd</td>\n",
       "      <td>front</td>\n",
       "      <td>105.8</td>\n",
       "      <td>...</td>\n",
       "      <td>136</td>\n",
       "      <td>mpfi</td>\n",
       "      <td>3.19</td>\n",
       "      <td>3.40</td>\n",
       "      <td>8.5</td>\n",
       "      <td>110</td>\n",
       "      <td>5500</td>\n",
       "      <td>19</td>\n",
       "      <td>25</td>\n",
       "      <td>18920</td>\n",
       "    </tr>\n",
       "    <tr>\n",
       "      <th>7</th>\n",
       "      <td>1</td>\n",
       "      <td>158</td>\n",
       "      <td>audi</td>\n",
       "      <td>gas</td>\n",
       "      <td>turbo</td>\n",
       "      <td>four</td>\n",
       "      <td>sedan</td>\n",
       "      <td>fwd</td>\n",
       "      <td>front</td>\n",
       "      <td>105.8</td>\n",
       "      <td>...</td>\n",
       "      <td>131</td>\n",
       "      <td>mpfi</td>\n",
       "      <td>3.13</td>\n",
       "      <td>3.40</td>\n",
       "      <td>8.3</td>\n",
       "      <td>140</td>\n",
       "      <td>5500</td>\n",
       "      <td>17</td>\n",
       "      <td>20</td>\n",
       "      <td>23875</td>\n",
       "    </tr>\n",
       "    <tr>\n",
       "      <th>8</th>\n",
       "      <td>0</td>\n",
       "      <td>?</td>\n",
       "      <td>audi</td>\n",
       "      <td>gas</td>\n",
       "      <td>turbo</td>\n",
       "      <td>two</td>\n",
       "      <td>hatchback</td>\n",
       "      <td>4wd</td>\n",
       "      <td>front</td>\n",
       "      <td>99.5</td>\n",
       "      <td>...</td>\n",
       "      <td>131</td>\n",
       "      <td>mpfi</td>\n",
       "      <td>3.13</td>\n",
       "      <td>3.40</td>\n",
       "      <td>7.0</td>\n",
       "      <td>160</td>\n",
       "      <td>5500</td>\n",
       "      <td>16</td>\n",
       "      <td>22</td>\n",
       "      <td>?</td>\n",
       "    </tr>\n",
       "    <tr>\n",
       "      <th>9</th>\n",
       "      <td>2</td>\n",
       "      <td>192</td>\n",
       "      <td>bmw</td>\n",
       "      <td>gas</td>\n",
       "      <td>std</td>\n",
       "      <td>two</td>\n",
       "      <td>sedan</td>\n",
       "      <td>rwd</td>\n",
       "      <td>front</td>\n",
       "      <td>101.2</td>\n",
       "      <td>...</td>\n",
       "      <td>108</td>\n",
       "      <td>mpfi</td>\n",
       "      <td>3.50</td>\n",
       "      <td>2.80</td>\n",
       "      <td>8.8</td>\n",
       "      <td>101</td>\n",
       "      <td>5800</td>\n",
       "      <td>23</td>\n",
       "      <td>29</td>\n",
       "      <td>16430</td>\n",
       "    </tr>\n",
       "  </tbody>\n",
       "</table>\n",
       "<p>10 rows × 26 columns</p>\n",
       "</div>"
      ],
      "text/plain": [
       "   symboling normalized-losses         make fuel-type aspiration num-of-doors  \\\n",
       "0          3                 ?  alfa-romero       gas        std          two   \n",
       "1          1                 ?  alfa-romero       gas        std          two   \n",
       "2          2               164         audi       gas        std         four   \n",
       "3          2               164         audi       gas        std         four   \n",
       "4          2                 ?         audi       gas        std          two   \n",
       "5          1               158         audi       gas        std         four   \n",
       "6          1                 ?         audi       gas        std         four   \n",
       "7          1               158         audi       gas      turbo         four   \n",
       "8          0                 ?         audi       gas      turbo          two   \n",
       "9          2               192          bmw       gas        std          two   \n",
       "\n",
       "    body-style drive-wheels engine-location  wheel-base  ...    engine-size  \\\n",
       "0  convertible          rwd           front        88.6  ...            130   \n",
       "1    hatchback          rwd           front        94.5  ...            152   \n",
       "2        sedan          fwd           front        99.8  ...            109   \n",
       "3        sedan          4wd           front        99.4  ...            136   \n",
       "4        sedan          fwd           front        99.8  ...            136   \n",
       "5        sedan          fwd           front       105.8  ...            136   \n",
       "6        wagon          fwd           front       105.8  ...            136   \n",
       "7        sedan          fwd           front       105.8  ...            131   \n",
       "8    hatchback          4wd           front        99.5  ...            131   \n",
       "9        sedan          rwd           front       101.2  ...            108   \n",
       "\n",
       "   fuel-system  bore  stroke compression-ratio horsepower  peak-rpm city-mpg  \\\n",
       "0         mpfi  3.47    2.68               9.0        111      5000       21   \n",
       "1         mpfi  2.68    3.47               9.0        154      5000       19   \n",
       "2         mpfi  3.19    3.40              10.0        102      5500       24   \n",
       "3         mpfi  3.19    3.40               8.0        115      5500       18   \n",
       "4         mpfi  3.19    3.40               8.5        110      5500       19   \n",
       "5         mpfi  3.19    3.40               8.5        110      5500       19   \n",
       "6         mpfi  3.19    3.40               8.5        110      5500       19   \n",
       "7         mpfi  3.13    3.40               8.3        140      5500       17   \n",
       "8         mpfi  3.13    3.40               7.0        160      5500       16   \n",
       "9         mpfi  3.50    2.80               8.8        101      5800       23   \n",
       "\n",
       "  highway-mpg  price  \n",
       "0          27  16500  \n",
       "1          26  16500  \n",
       "2          30  13950  \n",
       "3          22  17450  \n",
       "4          25  15250  \n",
       "5          25  17710  \n",
       "6          25  18920  \n",
       "7          20  23875  \n",
       "8          22      ?  \n",
       "9          29  16430  \n",
       "\n",
       "[10 rows x 26 columns]"
      ]
     },
     "execution_count": 60,
     "metadata": {},
     "output_type": "execute_result"
    }
   ],
   "source": [
    "import pandas as pd\n",
    "import numpy as np\n",
    "from sklearn import preprocessing\n",
    "from sklearn.neighbors import KNeighborsRegressor\n",
    "from sklearn.metrics import mean_squared_error\n",
    "import matplotlib.pyplot as plt\n",
    "%matplotlib inline\n",
    "\n",
    "cars = pd.read_csv('imports-85.data')\n",
    "\n",
    "header = ['symboling','normalized-losses', 'make', 'fuel-type', 'aspiration', 'num-of-doors', 'body-style', 'drive-wheels', 'engine-location', 'wheel-base', 'length', 'width', 'height', 'curb-weight', 'engine-type', 'num-of-cylinders', 'engine-size', 'fuel-system', 'bore', 'stroke', 'compression-ratio', 'horsepower', 'peak-rpm', 'city-mpg', 'highway-mpg', 'price']\n",
    "cars.columns = header\n",
    "\n",
    "cars.head(10)"
   ]
  },
  {
   "cell_type": "code",
   "execution_count": 61,
   "metadata": {
    "collapsed": false,
    "scrolled": true
   },
   "outputs": [
    {
     "name": "stdout",
     "output_type": "stream",
     "text": [
      "<class 'pandas.core.frame.DataFrame'>\n",
      "RangeIndex: 204 entries, 0 to 203\n",
      "Data columns (total 26 columns):\n",
      "symboling            204 non-null int64\n",
      "normalized-losses    204 non-null object\n",
      "make                 204 non-null object\n",
      "fuel-type            204 non-null object\n",
      "aspiration           204 non-null object\n",
      "num-of-doors         204 non-null object\n",
      "body-style           204 non-null object\n",
      "drive-wheels         204 non-null object\n",
      "engine-location      204 non-null object\n",
      "wheel-base           204 non-null float64\n",
      "length               204 non-null float64\n",
      "width                204 non-null float64\n",
      "height               204 non-null float64\n",
      "curb-weight          204 non-null int64\n",
      "engine-type          204 non-null object\n",
      "num-of-cylinders     204 non-null object\n",
      "engine-size          204 non-null int64\n",
      "fuel-system          204 non-null object\n",
      "bore                 204 non-null object\n",
      "stroke               204 non-null object\n",
      "compression-ratio    204 non-null float64\n",
      "horsepower           204 non-null object\n",
      "peak-rpm             204 non-null object\n",
      "city-mpg             204 non-null int64\n",
      "highway-mpg          204 non-null int64\n",
      "price                204 non-null object\n",
      "dtypes: float64(5), int64(5), object(16)\n",
      "memory usage: 41.5+ KB\n",
      "None\n",
      "symboling             0\n",
      "normalized-losses    40\n",
      "make                  0\n",
      "fuel-type             0\n",
      "aspiration            0\n",
      "num-of-doors          2\n",
      "body-style            0\n",
      "drive-wheels          0\n",
      "engine-location       0\n",
      "wheel-base            0\n",
      "length                0\n",
      "width                 0\n",
      "height                0\n",
      "curb-weight           0\n",
      "engine-type           0\n",
      "num-of-cylinders      0\n",
      "engine-size           0\n",
      "fuel-system           0\n",
      "bore                  4\n",
      "stroke                4\n",
      "compression-ratio     0\n",
      "horsepower            2\n",
      "peak-rpm              2\n",
      "city-mpg              0\n",
      "highway-mpg           0\n",
      "price                 4\n",
      "dtype: int64\n"
     ]
    }
   ],
   "source": [
    "print(cars.info())\n",
    "cars = cars.replace('?',np.nan)\n",
    "print(cars.isnull().sum())"
   ]
  },
  {
   "cell_type": "code",
   "execution_count": 62,
   "metadata": {
    "collapsed": false
   },
   "outputs": [
    {
     "name": "stdout",
     "output_type": "stream",
     "text": [
      "symboling             0\n",
      "normalized-losses    36\n",
      "make                  0\n",
      "fuel-type             0\n",
      "aspiration            0\n",
      "num-of-doors          2\n",
      "body-style            0\n",
      "drive-wheels          0\n",
      "engine-location       0\n",
      "wheel-base            0\n",
      "length                0\n",
      "width                 0\n",
      "height                0\n",
      "curb-weight           0\n",
      "engine-type           0\n",
      "num-of-cylinders      0\n",
      "engine-size           0\n",
      "fuel-system           0\n",
      "bore                  4\n",
      "stroke                4\n",
      "compression-ratio     0\n",
      "horsepower            2\n",
      "peak-rpm              2\n",
      "city-mpg              0\n",
      "highway-mpg           0\n",
      "price                 0\n",
      "dtype: int64\n",
      "<class 'pandas.core.frame.DataFrame'>\n",
      "Int64Index: 200 entries, 0 to 203\n",
      "Data columns (total 26 columns):\n",
      "symboling            200 non-null int64\n",
      "normalized-losses    200 non-null float64\n",
      "make                 200 non-null object\n",
      "fuel-type            200 non-null object\n",
      "aspiration           200 non-null object\n",
      "num-of-doors         200 non-null float64\n",
      "body-style           200 non-null object\n",
      "drive-wheels         200 non-null object\n",
      "engine-location      200 non-null object\n",
      "wheel-base           200 non-null float64\n",
      "length               200 non-null float64\n",
      "width                200 non-null float64\n",
      "height               200 non-null float64\n",
      "curb-weight          200 non-null int64\n",
      "engine-type          200 non-null object\n",
      "num-of-cylinders     200 non-null int64\n",
      "engine-size          200 non-null int64\n",
      "fuel-system          200 non-null object\n",
      "bore                 200 non-null float64\n",
      "stroke               200 non-null float64\n",
      "compression-ratio    200 non-null float64\n",
      "horsepower           200 non-null float64\n",
      "peak-rpm             200 non-null float64\n",
      "city-mpg             200 non-null int64\n",
      "highway-mpg          200 non-null int64\n",
      "price                200 non-null int64\n",
      "dtypes: float64(11), int64(7), object(8)\n",
      "memory usage: 42.2+ KB\n",
      "None\n",
      "    symboling  normalized-losses         make fuel-type aspiration  \\\n",
      "0           3              122.0  alfa-romero       gas        std   \n",
      "1           1              122.0  alfa-romero       gas        std   \n",
      "2           2              164.0         audi       gas        std   \n",
      "3           2              164.0         audi       gas        std   \n",
      "4           2              122.0         audi       gas        std   \n",
      "5           1              158.0         audi       gas        std   \n",
      "6           1              122.0         audi       gas        std   \n",
      "7           1              158.0         audi       gas      turbo   \n",
      "9           2              192.0          bmw       gas        std   \n",
      "10          0              192.0          bmw       gas        std   \n",
      "\n",
      "    num-of-doors   body-style drive-wheels engine-location  wheel-base  ...    \\\n",
      "0            2.0  convertible          rwd           front        88.6  ...     \n",
      "1            2.0    hatchback          rwd           front        94.5  ...     \n",
      "2            4.0        sedan          fwd           front        99.8  ...     \n",
      "3            4.0        sedan          4wd           front        99.4  ...     \n",
      "4            2.0        sedan          fwd           front        99.8  ...     \n",
      "5            4.0        sedan          fwd           front       105.8  ...     \n",
      "6            4.0        wagon          fwd           front       105.8  ...     \n",
      "7            4.0        sedan          fwd           front       105.8  ...     \n",
      "9            2.0        sedan          rwd           front       101.2  ...     \n",
      "10           4.0        sedan          rwd           front       101.2  ...     \n",
      "\n",
      "    engine-size  fuel-system  bore  stroke compression-ratio  horsepower  \\\n",
      "0           130         mpfi  3.47    2.68               9.0       111.0   \n",
      "1           152         mpfi  2.68    3.47               9.0       154.0   \n",
      "2           109         mpfi  3.19    3.40              10.0       102.0   \n",
      "3           136         mpfi  3.19    3.40               8.0       115.0   \n",
      "4           136         mpfi  3.19    3.40               8.5       110.0   \n",
      "5           136         mpfi  3.19    3.40               8.5       110.0   \n",
      "6           136         mpfi  3.19    3.40               8.5       110.0   \n",
      "7           131         mpfi  3.13    3.40               8.3       140.0   \n",
      "9           108         mpfi  3.50    2.80               8.8       101.0   \n",
      "10          108         mpfi  3.50    2.80               8.8       101.0   \n",
      "\n",
      "    peak-rpm city-mpg  highway-mpg  price  \n",
      "0     5000.0       21           27  16500  \n",
      "1     5000.0       19           26  16500  \n",
      "2     5500.0       24           30  13950  \n",
      "3     5500.0       18           22  17450  \n",
      "4     5500.0       19           25  15250  \n",
      "5     5500.0       19           25  17710  \n",
      "6     5500.0       19           25  18920  \n",
      "7     5500.0       17           20  23875  \n",
      "9     5800.0       23           29  16430  \n",
      "10    5800.0       23           29  16925  \n",
      "\n",
      "[10 rows x 26 columns]\n",
      "symboling            0\n",
      "normalized-losses    0\n",
      "make                 0\n",
      "fuel-type            0\n",
      "aspiration           0\n",
      "num-of-doors         0\n",
      "body-style           0\n",
      "drive-wheels         0\n",
      "engine-location      0\n",
      "wheel-base           0\n",
      "length               0\n",
      "width                0\n",
      "height               0\n",
      "curb-weight          0\n",
      "engine-type          0\n",
      "num-of-cylinders     0\n",
      "engine-size          0\n",
      "fuel-system          0\n",
      "bore                 0\n",
      "stroke               0\n",
      "compression-ratio    0\n",
      "horsepower           0\n",
      "peak-rpm             0\n",
      "city-mpg             0\n",
      "highway-mpg          0\n",
      "price                0\n",
      "dtype: int64\n"
     ]
    }
   ],
   "source": [
    "cars = cars.dropna(subset=['price'])\n",
    "print(cars.isnull().sum())\n",
    "\n",
    "# Replacing string to number so we can change to float/int\n",
    "num = {'eight':8, 'five':5, 'four':4, 'six':6, 'three':3, 'twelve':12, 'two':2}\n",
    "cars=cars.replace({'num-of-doors':num,'num-of-cylinders':num})\n",
    "cars = cars.astype({'normalized-losses':float,'bore':float,'stroke': float,'horsepower':float,'peak-rpm':float,'price':int})\n",
    "\n",
    "# Averaging out missing values in columns\n",
    "cars = cars.fillna(cars.mean())\n",
    "#cars['normalized-losses'] = cars['normalized-losses'].fillna(cars['normalized-losses'].mean())\n",
    "\n",
    "print(cars.info())\n",
    "print(cars.head(10))\n",
    "print(cars.isnull().sum())"
   ]
  },
  {
   "cell_type": "code",
   "execution_count": 63,
   "metadata": {
    "collapsed": true
   },
   "outputs": [],
   "source": [
    "#cars.dropna(axis=0,inplace=True)\n",
    "#print(cars.isnull().sum())\n",
    "\n",
    "#cars = cars.astype({'normalized-losses':int,'bore':float,'stroke': float,'horsepower':int,'peak-rpm':int,'price':int})\n",
    "\n",
    "#print(cars.info())\n"
   ]
  },
  {
   "cell_type": "code",
   "execution_count": 64,
   "metadata": {
    "collapsed": false
   },
   "outputs": [],
   "source": [
    "#cars['normalized-losses'].fillna(cars['normalized-losses'].mean())\n",
    "#cars['normalized-losses'] = cars['normalized-losses'].replace('0',cars['normalized-losses'].mean())\n",
    "#print(cars['normalized-losses'].shape)\n",
    "#print(cars.shape)"
   ]
  },
  {
   "cell_type": "code",
   "execution_count": 65,
   "metadata": {
    "collapsed": false
   },
   "outputs": [
    {
     "name": "stdout",
     "output_type": "stream",
     "text": [
      "(200,)\n",
      "<class 'pandas.core.frame.DataFrame'>\n",
      "Int64Index: 200 entries, 0 to 203\n",
      "Data columns (total 18 columns):\n",
      "symboling            200 non-null float64\n",
      "normalized-losses    200 non-null float64\n",
      "num-of-doors         200 non-null float64\n",
      "wheel-base           200 non-null float64\n",
      "length               200 non-null float64\n",
      "width                200 non-null float64\n",
      "height               200 non-null float64\n",
      "curb-weight          200 non-null float64\n",
      "num-of-cylinders     200 non-null float64\n",
      "engine-size          200 non-null float64\n",
      "bore                 200 non-null float64\n",
      "stroke               200 non-null float64\n",
      "compression-ratio    200 non-null float64\n",
      "horsepower           200 non-null float64\n",
      "peak-rpm             200 non-null float64\n",
      "city-mpg             200 non-null float64\n",
      "highway-mpg          200 non-null float64\n",
      "price                200 non-null float64\n",
      "dtypes: float64(18)\n",
      "memory usage: 29.7 KB\n",
      "None\n",
      "Int64Index([  0,   1,   2,   3,   4,   5,   6,   7,   9,  10,\n",
      "            ...\n",
      "            194, 195, 196, 197, 198, 199, 200, 201, 202, 203],\n",
      "           dtype='int64', length=200)\n",
      "Int64Index([  0,   1,   2,   3,   4,   5,   6,   7,   9,  10,\n",
      "            ...\n",
      "            194, 195, 196, 197, 198, 199, 200, 201, 202, 203],\n",
      "           dtype='int64', length=200)\n",
      "<class 'pandas.core.frame.DataFrame'>\n",
      "Int64Index: 200 entries, 0 to 203\n",
      "Data columns (total 18 columns):\n",
      "symboling            200 non-null float64\n",
      "normalized-losses    200 non-null float64\n",
      "num-of-doors         200 non-null float64\n",
      "wheel-base           200 non-null float64\n",
      "length               200 non-null float64\n",
      "width                200 non-null float64\n",
      "height               200 non-null float64\n",
      "curb-weight          200 non-null float64\n",
      "num-of-cylinders     200 non-null float64\n",
      "engine-size          200 non-null float64\n",
      "bore                 200 non-null float64\n",
      "stroke               200 non-null float64\n",
      "compression-ratio    200 non-null float64\n",
      "horsepower           200 non-null float64\n",
      "peak-rpm             200 non-null float64\n",
      "city-mpg             200 non-null float64\n",
      "highway-mpg          200 non-null float64\n",
      "price                200 non-null int64\n",
      "dtypes: float64(17), int64(1)\n",
      "memory usage: 29.7 KB\n",
      "None\n",
      "symboling            0\n",
      "normalized-losses    0\n",
      "num-of-doors         0\n",
      "wheel-base           0\n",
      "length               0\n",
      "width                0\n",
      "height               0\n",
      "curb-weight          0\n",
      "num-of-cylinders     0\n",
      "engine-size          0\n",
      "bore                 0\n",
      "stroke               0\n",
      "compression-ratio    0\n",
      "horsepower           0\n",
      "peak-rpm             0\n",
      "city-mpg             0\n",
      "highway-mpg          0\n",
      "price                0\n",
      "dtype: int64\n",
      "    symboling  normalized-losses  num-of-doors  wheel-base    length  \\\n",
      "0         1.0           0.298429           0.0    0.058309  0.413433   \n",
      "1         0.6           0.298429           0.0    0.230321  0.449254   \n",
      "2         0.8           0.518325           1.0    0.384840  0.529851   \n",
      "3         0.8           0.518325           1.0    0.373178  0.529851   \n",
      "4         0.8           0.298429           0.0    0.384840  0.540299   \n",
      "5         0.6           0.486911           1.0    0.559767  0.770149   \n",
      "6         0.6           0.298429           1.0    0.559767  0.770149   \n",
      "7         0.6           0.486911           1.0    0.559767  0.770149   \n",
      "9         0.8           0.664921           0.0    0.425656  0.532836   \n",
      "10        0.4           0.664921           1.0    0.425656  0.532836   \n",
      "\n",
      "       width    height  curb-weight  num-of-cylinders  engine-size      bore  \\\n",
      "0   0.324786  0.083333     0.411171               0.2     0.260377  0.664286   \n",
      "1   0.444444  0.383333     0.517843               0.4     0.343396  0.100000   \n",
      "2   0.504274  0.541667     0.329325               0.2     0.181132  0.464286   \n",
      "3   0.521368  0.541667     0.518231               0.3     0.283019  0.464286   \n",
      "4   0.512821  0.441667     0.395268               0.3     0.283019  0.464286   \n",
      "5   0.948718  0.658333     0.525989               0.3     0.283019  0.464286   \n",
      "6   0.948718  0.658333     0.568658               0.3     0.283019  0.464286   \n",
      "7   0.948718  0.675000     0.619860               0.3     0.264151  0.421429   \n",
      "9   0.384615  0.541667     0.351823               0.2     0.177358  0.685714   \n",
      "10  0.384615  0.541667     0.351823               0.2     0.177358  0.685714   \n",
      "\n",
      "      stroke  compression-ratio  horsepower  peak-rpm  city-mpg  highway-mpg  \\\n",
      "0   0.290476            0.12500    0.294393  0.346939  0.222222     0.289474   \n",
      "1   0.666667            0.12500    0.495327  0.346939  0.166667     0.263158   \n",
      "2   0.633333            0.18750    0.252336  0.551020  0.305556     0.368421   \n",
      "3   0.633333            0.06250    0.313084  0.551020  0.138889     0.157895   \n",
      "4   0.633333            0.09375    0.289720  0.551020  0.166667     0.236842   \n",
      "5   0.633333            0.09375    0.289720  0.551020  0.166667     0.236842   \n",
      "6   0.633333            0.09375    0.289720  0.551020  0.166667     0.236842   \n",
      "7   0.633333            0.08125    0.429907  0.551020  0.111111     0.105263   \n",
      "9   0.347619            0.11250    0.247664  0.673469  0.277778     0.342105   \n",
      "10  0.347619            0.11250    0.247664  0.673469  0.277778     0.342105   \n",
      "\n",
      "    price  \n",
      "0   16500  \n",
      "1   16500  \n",
      "2   13950  \n",
      "3   17450  \n",
      "4   15250  \n",
      "5   17710  \n",
      "6   18920  \n",
      "7   23875  \n",
      "9   16430  \n",
      "10  16925  \n"
     ]
    }
   ],
   "source": [
    "#print(cars.info())\n",
    "numeric_cars = cars.select_dtypes(exclude=['object']) #!= object\n",
    "columns_numeric = numeric_cars.columns.tolist()\n",
    "price_column = numeric_cars['price']\n",
    "numeric_cars = numeric_cars.astype('float')\n",
    "print(price_column.shape)\n",
    "print(numeric_cars.info())\n",
    "print(numeric_cars.index)\n",
    "\n",
    "# Normalization formula = (x-min(x))/(max(x)-min(x))\n",
    "normalized_cars = (numeric_cars - numeric_cars.min())/(numeric_cars.max() - numeric_cars.min())\n",
    "print(normalized_cars.index)\n",
    "normalized_cars['price'] = price_column\n",
    "print(normalized_cars.info())\n",
    "print(normalized_cars.isnull().sum())\n",
    "# Create a minimum and maximum processor object\n",
    "#min_max_scaler = preprocessing.MinMaxScaler()\n",
    "\n",
    "# Create an object to transform the data to fit minmax processor\n",
    "#x_scaled = min_max_scaler.fit_transform(numeric_cars)\n",
    "\n",
    "# Run the normalizer on the dataframe\n",
    "#normalized_cars = pd.DataFrame(x_scaled)\n",
    "#normalized_cars.columns = columns_numeric\n",
    "\n",
    "print(normalized_cars.head(10))"
   ]
  },
  {
   "cell_type": "code",
   "execution_count": 66,
   "metadata": {
    "collapsed": false
   },
   "outputs": [
    {
     "name": "stdout",
     "output_type": "stream",
     "text": [
      "0      0.289474\n",
      "1      0.263158\n",
      "2      0.368421\n",
      "3      0.157895\n",
      "4      0.236842\n",
      "5      0.236842\n",
      "6      0.236842\n",
      "7      0.105263\n",
      "9      0.342105\n",
      "10     0.342105\n",
      "11     0.315789\n",
      "12     0.315789\n",
      "13     0.236842\n",
      "14     0.157895\n",
      "15     0.157895\n",
      "16     0.105263\n",
      "17     0.973684\n",
      "18     0.710526\n",
      "19     0.710526\n",
      "20     0.657895\n",
      "21     0.578947\n",
      "22     0.368421\n",
      "23     0.578947\n",
      "24     0.578947\n",
      "25     0.578947\n",
      "26     0.368421\n",
      "27     0.368421\n",
      "28     0.210526\n",
      "29     1.000000\n",
      "30     0.578947\n",
      "         ...   \n",
      "174    0.421053\n",
      "175    0.421053\n",
      "176    0.421053\n",
      "177    0.210526\n",
      "178    0.210526\n",
      "179    0.210526\n",
      "180    0.210526\n",
      "181    0.789474\n",
      "182    0.473684\n",
      "183    0.789474\n",
      "184    0.473684\n",
      "185    0.473684\n",
      "186    0.684211\n",
      "187    0.421053\n",
      "188    0.342105\n",
      "189    0.342105\n",
      "190    0.210526\n",
      "191    0.578947\n",
      "192    0.394737\n",
      "193    0.315789\n",
      "194    0.315789\n",
      "195    0.315789\n",
      "196    0.315789\n",
      "197    0.157895\n",
      "198    0.157895\n",
      "199    0.315789\n",
      "200    0.236842\n",
      "201    0.184211\n",
      "202    0.289474\n",
      "203    0.236842\n",
      "Name: highway-mpg, dtype: float64\n"
     ]
    }
   ],
   "source": [
    "normalized_highmpg = (cars['highway-mpg'] - cars['highway-mpg'].min())/(cars['highway-mpg'].max() - cars['highway-mpg'].min())\n",
    "print(normalized_highmpg)"
   ]
  },
  {
   "cell_type": "code",
   "execution_count": 67,
   "metadata": {
    "collapsed": false
   },
   "outputs": [
    {
     "data": {
      "text/plain": [
       "\"\\nnumeric_cars = cars.select_dtypes(exclude=['object']) #!= object\\ncolumns_numeric = numeric_cars.columns.tolist()\\nprice_column = numeric_cars['price'].reset_index(drop=True)\\nnumeric_cars = numeric_cars.astype('float')\\n\\nprint(numeric_cars.info())\\nprint(numeric_cars.index)\\nprint(price_column.index)\\n\\n# Normalization formula = (x-min(x))/(max(x)-min(x))\\n# normalized_cars = (numeric_cars - numeric_cars.min())/(numeric_cars.max() - numeric_cars.min())\\n\\n# Create a minimum and maximum processor object\\nmin_max_scaler = preprocessing.MinMaxScaler()\\n\\n# Create an object to transform the data to fit minmax processor\\nx_scaled = min_max_scaler.fit_transform(numeric_cars)\\n\\n# Run the normalizer on the dataframe\\nnormalized_cars = pd.DataFrame(x_scaled)\\nnormalized_cars.columns = columns_numeric\\n\\nnormalized_cars['price'] = price_column\\nprint(normalized_cars.info())\\n\\nprint(normalized_cars.isnull().sum())\\n\\nprint(normalized_cars.head(10))\\n#print(price_column)\\n\""
      ]
     },
     "execution_count": 67,
     "metadata": {},
     "output_type": "execute_result"
    }
   ],
   "source": [
    "'''\n",
    "numeric_cars = cars.select_dtypes(exclude=['object']) #!= object\n",
    "columns_numeric = numeric_cars.columns.tolist()\n",
    "price_column = numeric_cars['price'].reset_index(drop=True)\n",
    "numeric_cars = numeric_cars.astype('float')\n",
    "\n",
    "print(numeric_cars.info())\n",
    "print(numeric_cars.index)\n",
    "print(price_column.index)\n",
    "\n",
    "# Normalization formula = (x-min(x))/(max(x)-min(x))\n",
    "# normalized_cars = (numeric_cars - numeric_cars.min())/(numeric_cars.max() - numeric_cars.min())\n",
    "\n",
    "# Create a minimum and maximum processor object\n",
    "min_max_scaler = preprocessing.MinMaxScaler()\n",
    "\n",
    "# Create an object to transform the data to fit minmax processor\n",
    "x_scaled = min_max_scaler.fit_transform(numeric_cars)\n",
    "\n",
    "# Run the normalizer on the dataframe\n",
    "normalized_cars = pd.DataFrame(x_scaled)\n",
    "normalized_cars.columns = columns_numeric\n",
    "\n",
    "normalized_cars['price'] = price_column\n",
    "print(normalized_cars.info())\n",
    "\n",
    "print(normalized_cars.isnull().sum())\n",
    "\n",
    "print(normalized_cars.head(10))\n",
    "#print(price_column)\n",
    "'''"
   ]
  },
  {
   "cell_type": "code",
   "execution_count": 68,
   "metadata": {
    "collapsed": true
   },
   "outputs": [],
   "source": [
    "def knn_train_test(training,target,df):\n",
    "    train_col = df[[training]][:145]\n",
    "    test_col = df[[training]][145:]\n",
    "    target_train = df[[target]][:145]\n",
    "    target_test = df[[target]][145:]\n",
    "    \n",
    "    knn = KNeighborsRegressor()\n",
    "    knn.fit(train_col,target_train)\n",
    "    predictions = knn.predict(test_col)\n",
    "    \n",
    "    mse = mean_squared_error(target_test,predictions)\n",
    "    rmse = mse ** (1/2)\n",
    "    return rmse\n",
    "    "
   ]
  },
  {
   "cell_type": "code",
   "execution_count": 69,
   "metadata": {
    "collapsed": false
   },
   "outputs": [
    {
     "name": "stdout",
     "output_type": "stream",
     "text": [
      "(145, 1)\n",
      "(55, 1)\n",
      "3609.52540139\n"
     ]
    }
   ],
   "source": [
    "train_df = normalized_cars[['engine-size']][:145]\n",
    "test_df = normalized_cars[['engine-size']][145:]\n",
    "target_train = normalized_cars[['price']][:145]\n",
    "target_test = normalized_cars[['price']][145:]\n",
    "\n",
    "print(train_df.shape)\n",
    "print(test_df.shape)\n",
    "\n",
    "knn = KNeighborsRegressor()\n",
    "knn.fit(train_df,target_train)\n",
    "predictions = knn.predict(test_df)\n",
    "\n",
    "mse = mean_squared_error(target_test,predictions)\n",
    "rmse = mse ** (1/2)\n",
    "\n",
    "print(rmse)"
   ]
  },
  {
   "cell_type": "markdown",
   "metadata": {
    "collapsed": true
   },
   "source": [
    "split_one = dc_listings[:1862]\n",
    "split_two = dc_listings[1862:]\n",
    "dc_listings.loc[dc_listings.index[0:744], \"fold\"] = 1\n",
    "\n",
    "dc_listings.loc[dc_listings.index[744:1488], \"fold\"] = 2\n",
    "\n",
    "dc_listings.loc[dc_listings.index[1488:2232], \"fold\"] = 3\n",
    "\n",
    "dc_listings.loc[dc_listings.index[2232:2976], \"fold\"] = 4\n",
    "\n",
    "dc_listings.loc[dc_listings.index[2976:3723], \"fold\"] = 5"
   ]
  },
  {
   "cell_type": "code",
   "execution_count": 70,
   "metadata": {
    "collapsed": false,
    "scrolled": true
   },
   "outputs": [
    {
     "name": "stdout",
     "output_type": "stream",
     "text": [
      "3609.52540139\n"
     ]
    }
   ],
   "source": [
    "rmse_val = knn_train_test('engine-size','price',normalized_cars)\n",
    "print(rmse_val)"
   ]
  },
  {
   "cell_type": "code",
   "execution_count": 71,
   "metadata": {
    "collapsed": false
   },
   "outputs": [
    {
     "name": "stdout",
     "output_type": "stream",
     "text": [
      "\n",
      "curb-weight: 2426.23180591\n"
     ]
    },
    {
     "data": {
      "image/png": "[encoded data removed]",
      "text/plain": [
       "<matplotlib.figure.Figure at 0x7f135ecf48d0>"
      ]
     },
     "metadata": {},
     "output_type": "display_data"
    },
    {
     "name": "stdout",
     "output_type": "stream",
     "text": [
      "['curb-weight', 'highway-mpg', 'width', 'city-mpg', 'engine-size']\n"
     ]
    }
   ],
   "source": [
    "rmses=[]\n",
    "rmses_dict = {}\n",
    "lowest_five = []\n",
    "\n",
    "for i in normalized_cars.columns[:17]:\n",
    "    rmse = knn_train_test(i,'price',normalized_cars)\n",
    "    rmses.append(rmse)\n",
    "    rmses_dict[rmse] = i\n",
    "\n",
    "#print(rmses)\n",
    "#print(rmses_dict)\n",
    "\n",
    "print('\\n' + str(normalized_cars.columns[rmses.index(min(rmses))]) + ': ' + str(min(rmses)))\n",
    "plt.scatter([1,2,3,4,5,6,7,8,9,10,11,12,13,14,15,16,17],rmses)\n",
    "plt.show()\n",
    "\n",
    "low_five = rmses\n",
    "\n",
    "for low in range(0,5):\n",
    "    #print(rmses_dict[min(low_five)])\n",
    "    #print('\\n' + str(normalized_cars.columns[rmses.index(min(low_five))]) + ': ' + str(min(low_five)))\n",
    "    lowest_five.append(rmses_dict[min(low_five)])\n",
    "    low_five.remove(min(low_five))\n",
    "    \n",
    "print(lowest_five)"
   ]
  },
  {
   "cell_type": "code",
   "execution_count": 72,
   "metadata": {
    "collapsed": false
   },
   "outputs": [],
   "source": [
    "def knn_train_test_k(training,target,df,k):\n",
    "    train_col = df[[training]][:145]\n",
    "    test_col = df[[training]][145:]\n",
    "    target_train = df[[target]][:145]\n",
    "    target_test = df[[target]][145:]\n",
    "    \n",
    "    knn = KNeighborsRegressor(n_neighbors=k)\n",
    "    knn.fit(train_col,target_train)\n",
    "    predictions = knn.predict(test_col)\n",
    "    \n",
    "    mse = mean_squared_error(target_test,predictions)\n",
    "    rmse = mse ** (1/2)\n",
    "    return rmse\n",
    "    "
   ]
  },
  {
   "cell_type": "code",
   "execution_count": 73,
   "metadata": {
    "collapsed": false
   },
   "outputs": [
    {
     "name": "stdout",
     "output_type": "stream",
     "text": [
      "[7504.571315528563, 7509.9509008155273, 5862.6505873274509, 5512.3899199760981, 5033.6521405713293, 2951.9685827563012, 5507.3657281430051, 2495.9753204357748, 4897.2303624493334, 2983.8681096978512, 6195.5834273788678, 8483.8586869802912, 5648.129805827698, 3561.3666639265111, 6240.3796254562267, 3163.9650991078606, 2308.1163815926679]\n",
      "\n",
      "highway-mpg: 2308.11638159\n"
     ]
    },
    {
     "data": {
      "text/plain": [
       "<matplotlib.collections.PathCollection at 0x7f135ffaac50>"
      ]
     },
     "execution_count": 73,
     "metadata": {},
     "output_type": "execute_result"
    },
    {
     "data": {
      "image/png": "[encoded data removed]",
      "text/plain": [
       "<matplotlib.figure.Figure at 0x7f135ee35d68>"
      ]
     },
     "metadata": {},
     "output_type": "display_data"
    }
   ],
   "source": [
    "rmses_k=[]\n",
    "\n",
    "for i in normalized_cars.columns[:17]:\n",
    "    rmse_k = knn_train_test_k(i,'price',normalized_cars,9)\n",
    "    rmses_k.append(rmse_k)\n",
    "\n",
    "print(rmses_k)\n",
    "\n",
    "print('\\n' + str(normalized_cars.columns[rmses_k.index(min(rmses_k))]) + ': ' + str(min(rmses_k)))\n",
    "\n",
    "plt.scatter([1,2,3,4,5,6,7,8,9,10,11,12,13,14,15,16,17],rmses_k)"
   ]
  },
  {
   "cell_type": "code",
   "execution_count": 74,
   "metadata": {
    "collapsed": false
   },
   "outputs": [
    {
     "data": {
      "text/plain": [
       "\"['symboling',\\n 'normalized-losses',\\n 'num-of-doors',\\n 'wheel-base',\\n 'length',\\n 'width',\\n 'height',\\n 'curb-weight',\\n 'num-of-cylinders',\\n 'engine-size',\\n 'bore',\\n 'stroke',\\n 'compression-ratio',\\n 'horsepower',\\n 'peak-rpm',\\n 'city-mpg',\\n 'highway-mpg']\""
      ]
     },
     "execution_count": 74,
     "metadata": {},
     "output_type": "execute_result"
    }
   ],
   "source": [
    "'''['symboling',\n",
    " 'normalized-losses',\n",
    " 'num-of-doors',\n",
    " 'wheel-base',\n",
    " 'length',\n",
    " 'width',\n",
    " 'height',\n",
    " 'curb-weight',\n",
    " 'num-of-cylinders',\n",
    " 'engine-size',\n",
    " 'bore',\n",
    " 'stroke',\n",
    " 'compression-ratio',\n",
    " 'horsepower',\n",
    " 'peak-rpm',\n",
    " 'city-mpg',\n",
    " 'highway-mpg']'''"
   ]
  },
  {
   "cell_type": "code",
   "execution_count": 75,
   "metadata": {
    "collapsed": false
   },
   "outputs": [
    {
     "name": "stdout",
     "output_type": "stream",
     "text": [
      "\n",
      "k = 1, curb-weight: 3768.91766716\n"
     ]
    },
    {
     "data": {
      "image/png": "[encoded data removed]",
      "text/plain": [
       "<matplotlib.figure.Figure at 0x7f135ffaa278>"
      ]
     },
     "metadata": {},
     "output_type": "display_data"
    },
    {
     "name": "stdout",
     "output_type": "stream",
     "text": [
      "\n",
      "k = 3, curb-weight: 2450.72281195\n"
     ]
    },
    {
     "data": {
      "image/png": "[encoded data removed]",
      "text/plain": [
       "<matplotlib.figure.Figure at 0x7f135ecb5710>"
      ]
     },
     "metadata": {},
     "output_type": "display_data"
    },
    {
     "name": "stdout",
     "output_type": "stream",
     "text": [
      "\n",
      "k = 5, curb-weight: 2426.23180591\n"
     ]
    },
    {
     "data": {
      "image/png": "[encoded data removed]",
      "text/plain": [
       "<matplotlib.figure.Figure at 0x7f135fe93d30>"
      ]
     },
     "metadata": {},
     "output_type": "display_data"
    },
    {
     "name": "stdout",
     "output_type": "stream",
     "text": [
      "\n",
      "k = 7, highway-mpg: 2446.97095059\n"
     ]
    },
    {
     "data": {
      "image/png": "[encoded data removed]",
      "text/plain": [
       "<matplotlib.figure.Figure at 0x7f135ebf6b38>"
      ]
     },
     "metadata": {},
     "output_type": "display_data"
    },
    {
     "name": "stdout",
     "output_type": "stream",
     "text": [
      "\n",
      "k = 9, highway-mpg: 2308.11638159\n"
     ]
    },
    {
     "data": {
      "image/png": "[encoded data removed]",
      "text/plain": [
       "<matplotlib.figure.Figure at 0x7f135ebafa20>"
      ]
     },
     "metadata": {},
     "output_type": "display_data"
    }
   ],
   "source": [
    "k = [1,3,5,7,9]\n",
    "rmses_k=[]\n",
    "\n",
    "for j in k:\n",
    "    for i in normalized_cars.columns[:17]:\n",
    "        rmse_k = knn_train_test_k(i,'price',normalized_cars,j)\n",
    "        rmses_k.append(rmse_k)\n",
    "\n",
    "    print('\\n' + 'k = ' + str(j) + ', ' +str(normalized_cars.columns[rmses_k.index(min(rmses_k))]) + ': ' + str(min(rmses_k)))\n",
    "\n",
    "    plt.scatter([1,2,3,4,5,6,7,8,9,10,11,12,13,14,15,16,17],rmses_k)\n",
    "    plt.show()\n",
    "    \n",
    "    del rmses_k[:]"
   ]
  },
  {
   "cell_type": "code",
   "execution_count": 76,
   "metadata": {
    "collapsed": true
   },
   "outputs": [],
   "source": [
    "def knn_train_test_multi(training,target,df,k):\n",
    "    train_df = df[training][:145]\n",
    "    test_df = df[training][145:]\n",
    "    target_train = df[[target]][:145]\n",
    "    target_test = df[[target]][145:]\n",
    "    \n",
    "    knn = KNeighborsRegressor(n_neighbors=k)\n",
    "    knn.fit(train_df,target_train)\n",
    "    predictions = knn.predict(test_df)\n",
    "    \n",
    "    mse = mean_squared_error(target_test,predictions)\n",
    "    rmse = mse ** (1/2)\n",
    "    return rmse"
   ]
  },
  {
   "cell_type": "code",
   "execution_count": 77,
   "metadata": {
    "collapsed": false
   },
   "outputs": [
    {
     "name": "stdout",
     "output_type": "stream",
     "text": [
      "2065.89398989\n"
     ]
    }
   ],
   "source": [
    "rmse_all = knn_train_test_multi(normalized_cars.columns[:17],'price',normalized_cars,5)\n",
    "print(rmse_all)"
   ]
  },
  {
   "cell_type": "code",
   "execution_count": 78,
   "metadata": {
    "collapsed": false
   },
   "outputs": [
    {
     "name": "stdout",
     "output_type": "stream",
     "text": [
      "2971.6711635\n"
     ]
    }
   ],
   "source": [
    "best_two = ['curb-weight','highway-mpg']\n",
    "rmse_two = knn_train_test_multi(best_two,'price',normalized_cars,5)\n",
    "print(rmse_two)"
   ]
  },
  {
   "cell_type": "code",
   "execution_count": 79,
   "metadata": {
    "collapsed": false
   },
   "outputs": [
    {
     "name": "stdout",
     "output_type": "stream",
     "text": [
      "2640.93041125\n"
     ]
    }
   ],
   "source": [
    "best_three = ['curb-weight','highway-mpg','engine-size']\n",
    "rmse_three = knn_train_test_multi(best_three,'price',normalized_cars,5)\n",
    "print(rmse_three)"
   ]
  },
  {
   "cell_type": "code",
   "execution_count": 80,
   "metadata": {
    "collapsed": false
   },
   "outputs": [
    {
     "name": "stdout",
     "output_type": "stream",
     "text": [
      "Best 2 features: ['curb-weight', 'highway-mpg']\n",
      "2971.6711635\n",
      "\n",
      "Best 3 features: ['curb-weight', 'highway-mpg', 'width']\n",
      "2572.33985355\n",
      "\n",
      "Best 4 features: ['curb-weight', 'highway-mpg', 'width', 'city-mpg']\n",
      "2293.96951014\n",
      "\n",
      "Best 5 features: ['curb-weight', 'highway-mpg', 'width', 'city-mpg', 'engine-size']\n",
      "2130.18473053\n",
      "\n"
     ]
    }
   ],
   "source": [
    "best = []\n",
    "for lowest in lowest_five:\n",
    "    best.append(lowest)\n",
    "    if len(best) != 1:\n",
    "        rmse_multi = knn_train_test_multi(best,'price',normalized_cars,5)\n",
    "        print('Best ' + str(len(best)) + ' features: ' + str(best) + '\\n' + str(rmse_multi) + '\\n')\n"
   ]
  },
  {
   "cell_type": "code",
   "execution_count": 81,
   "metadata": {
    "collapsed": false
   },
   "outputs": [
    {
     "name": "stdout",
     "output_type": "stream",
     "text": [
      "k = 10, rmse = 2019.73820702\n"
     ]
    }
   ],
   "source": [
    "hyper_params = [x for x in range(1,26)]\n",
    "top_one = ['curb-weight', 'highway-mpg', 'engine-size', 'city-mpg']\n",
    "k_rmses = []\n",
    "for param in hyper_params:\n",
    "    rootmses = knn_train_test_multi(top_one,'price',normalized_cars,param)\n",
    "    k_rmses.append(rootmses)\n",
    "    \n",
    "#print(k_rmses)\n",
    "\n",
    "index_min = np.argmin(k_rmses)\n",
    "print('k = ' + str(index_min+1) + ', rmse = ' + str(min(k_rmses)) )"
   ]
  },
  {
   "cell_type": "code",
   "execution_count": 82,
   "metadata": {
    "collapsed": false
   },
   "outputs": [
    {
     "name": "stdout",
     "output_type": "stream",
     "text": [
      "k = 21, rmse = 2228.80086549\n"
     ]
    }
   ],
   "source": [
    "top_two = ['curb-weight', 'highway-mpg', 'engine-size']\n",
    "k_rmses = []\n",
    "for param in hyper_params:\n",
    "    rootmses = knn_train_test_multi(top_two,'price',normalized_cars,param)\n",
    "    k_rmses.append(rootmses)\n",
    "    \n",
    "#print(k_rmses)\n",
    "\n",
    "index_min = np.argmin(k_rmses)\n",
    "print('k = ' + str(index_min+1) + ', rmse = ' + str(min(k_rmses)) )"
   ]
  },
  {
   "cell_type": "code",
   "execution_count": 83,
   "metadata": {
    "collapsed": false
   },
   "outputs": [
    {
     "name": "stdout",
     "output_type": "stream",
     "text": [
      "k = 15, rmse = 2161.82170788\n"
     ]
    }
   ],
   "source": [
    "top_three = ['curb-weight', 'highway-mpg', 'engine-size', 'city-mpg', 'horsepower']\n",
    "k_rmses = []\n",
    "for param in hyper_params:\n",
    "    rootmses = knn_train_test_multi(top_three,'price',normalized_cars,param)\n",
    "    k_rmses.append(rootmses)\n",
    "    \n",
    "#print(k_rmses)\n",
    "\n",
    "index_min = np.argmin(k_rmses)\n",
    "print('k = ' + str(index_min+1) + ', rmse = ' + str(min(k_rmses)) )"
   ]
  },
  {
   "cell_type": "code",
   "execution_count": null,
   "metadata": {
    "collapsed": true
   },
   "outputs": [],
   "source": []
  }
 ],
 "metadata": {
  "kernelspec": {
   "display_name": "Python 3",
   "language": "python",
   "name": "python3"
  },
  "language_info": {
   "codemirror_mode": {
    "name": "ipython",
    "version": 3
   },
   "file_extension": ".py",
   "mimetype": "text/x-python",
   "name": "python",
   "nbconvert_exporter": "python",
   "pygments_lexer": "ipython3",
   "version": "3.4.3"
  }
 },
 "nbformat": 4,
 "nbformat_minor": 2
}
